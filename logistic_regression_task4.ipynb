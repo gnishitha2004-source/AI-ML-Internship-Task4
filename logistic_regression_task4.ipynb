{
  "cells": [
    {
      "cell_type": "markdown",
      "metadata": {
        "id": "view-in-github",
        "colab_type": "text"
      },
      "source": [
        "<a href=\"https://colab.research.google.com/github/gnishitha2004-source/AI-ML-Internship-Task4/blob/main/logistic_regression_task4.ipynb\" target=\"_parent\"><img src=\"https://colab.research.google.com/assets/colab-badge.svg\" alt=\"Open In Colab\"/></a>"
      ]
    },
    {
      "cell_type": "markdown",
      "id": "b16b670e",
      "metadata": {
        "id": "b16b670e"
      },
      "source": [
        "\n",
        "# Logistic Regression: Breast Cancer — End-to-end\n",
        "\n",
        "This notebook walks you step-by-step through:\n",
        "- Loading the Breast Cancer dataset (sklearn)\n",
        "- EDA: shape, target balance\n",
        "- Train/test split + standardization\n",
        "- Fit Logistic Regression\n",
        "- Evaluate: confusion matrix, precision, recall, F1, ROC-AUC\n",
        "- Tune classification threshold and visualize precision/recall vs threshold\n",
        "- Quick hyperparameter tuning (C) with `GridSearchCV` (ROC-AUC)\n",
        "- Plot and explain the sigmoid function\n",
        "- Save the trained model\n",
        "\n",
        "**How to run:**\n",
        "1. Open Google Colab -> New notebook.\n",
        "2. Run this notebook top-to-bottom.\n"
      ]
    },
    {
      "cell_type": "code",
      "execution_count": 1,
      "id": "1d06b2df",
      "metadata": {
        "id": "1d06b2df"
      },
      "outputs": [],
      "source": [
        "# Full code was in the assistant's previous canvas creation step."
      ]
    }
  ],
  "metadata": {
    "colab": {
      "provenance": [],
      "include_colab_link": true
    },
    "language_info": {
      "name": "python"
    },
    "kernelspec": {
      "name": "python3",
      "display_name": "Python 3"
    }
  },
  "nbformat": 4,
  "nbformat_minor": 5
}